{
 "cells": [
  {
   "cell_type": "code",
   "execution_count": 1,
   "metadata": {},
   "outputs": [],
   "source": [
    "from sentence_transformers import SentenceTransformer\n",
    "import os\n",
    "from deeplake.core.vectorstore import VectorStore"
   ]
  },
  {
   "cell_type": "code",
   "execution_count": 2,
   "metadata": {},
   "outputs": [],
   "source": [
    "project_name = 'OpenVoice_results'"
   ]
  },
  {
   "cell_type": "code",
   "execution_count": 3,
   "metadata": {},
   "outputs": [],
   "source": [
    "#Utils to extract pylint codes from pylint documentation\n",
    "\n",
    "with open(\"pylint_doc.txt\", \"r\") as file:\n",
    "    lines = file.readlines()\n",
    "    \n",
    "pylint_codes=open(\"pylint_codes.txt\",\"w\")\n",
    "codes=[]\n",
    "\n",
    "for line in lines:\n",
    "    if line.startswith(\":\"):\n",
    "        #find the first word beween ( and )\n",
    "        code=line[line.find(\"(\")+1:line.find(\")\")]\n",
    "        pylint_codes.write(code+\"\\n\")\n",
    "        codes.append(code)\n",
    "        \n",
    "pylint_codes.close()\n",
    "# print(lines)\n"
   ]
  },
  {
   "cell_type": "code",
   "execution_count": 4,
   "metadata": {},
   "outputs": [
    {
     "name": "stdout",
     "output_type": "stream",
     "text": [
      "File already exists\n",
      "Database is created already\n"
     ]
    }
   ],
   "source": [
    "flag=True\n",
    "if not os.path.exists(f\"input_lines_dbms_{project_name}.txt\"):\n",
    "    metadata=[]\n",
    "    lines_for_dbms=[]\n",
    "    final_report=open(f\"input_lines_dbms_{project_name}.txt\",\"w\")\n",
    "\n",
    "\n",
    "    # Loop through each folder from v0 to v99\n",
    "    for i in range(100):\n",
    "        folder_name = f'v{i}'\n",
    "        file_path = os.path.join(project_name, folder_name, 'pylint.txt')\n",
    "        print(file_path)\n",
    "        \n",
    "        # Check if the data.txt file exists\n",
    "        if os.path.isfile(file_path):\n",
    "            # Open and read the file\n",
    "            with open(file_path, 'r') as file:\n",
    "                report_lines = file.readlines()\n",
    "                \n",
    "            for line in report_lines:\n",
    "                try:\n",
    "                    code= line.split(\" \")[1][:-1]\n",
    "                    file_name=line.split(\" \")[0][:line.split(\" \")[0].find(\":\")]\n",
    "                    version=folder_name\n",
    "                    \n",
    "                    #add version to line\n",
    "                    \n",
    "                    new_line=folder_name+\": \"+line\n",
    "                    \n",
    "                    if code in codes:\n",
    "                        lines_for_dbms.append(new_line)\n",
    "                        final_report.write(new_line)\n",
    "                        temp={\"code\":code,\"file_name\":file_name, \"version\":version}\n",
    "                        metadata.append(temp)\n",
    "                        \n",
    "                except:\n",
    "                    continue\n",
    "            \n",
    "                \n",
    "        else:\n",
    "            print(f\"File not found: {file_path}\")\n",
    "\n",
    "\n",
    "    final_report.close()\n",
    "    print(f\"total number of lines: {len(lines_for_dbms)}\")\n",
    "else: \n",
    "    print(\"File already exists\")\n",
    "    print(\"Database is created already\")\n",
    "    flag=False"
   ]
  },
  {
   "cell_type": "code",
   "execution_count": 5,
   "metadata": {},
   "outputs": [],
   "source": [
    "from sentence_transformers import SentenceTransformer\n",
    "model = SentenceTransformer(\"all-MiniLM-L12-v2\")\n",
    "#for gpt-soVITs change model to all-mpnet-base-v2 else for others all-MiniLM-L12-v2\n"
   ]
  },
  {
   "cell_type": "code",
   "execution_count": 6,
   "metadata": {},
   "outputs": [],
   "source": [
    "def embed(sentence):\n",
    "    return model.encode(sentence)"
   ]
  },
  {
   "cell_type": "code",
   "execution_count": 7,
   "metadata": {},
   "outputs": [],
   "source": [
    "### create new database\n",
    "from deeplake.core.vectorstore import VectorStore"
   ]
  },
  {
   "cell_type": "code",
   "execution_count": 8,
   "metadata": {},
   "outputs": [
    {
     "name": "stdout",
     "output_type": "stream",
     "text": [
      "Deep Lake Dataset in vectordbOpenVoice_results already exists, loading from the storage\n"
     ]
    }
   ],
   "source": [
    "vector_store_path=\"vectordb\"+project_name\n",
    "\n",
    "vector_db=VectorStore(path=vector_store_path)"
   ]
  },
  {
   "cell_type": "code",
   "execution_count": 9,
   "metadata": {},
   "outputs": [
    {
     "name": "stdout",
     "output_type": "stream",
     "text": [
      "Dataset(path='vectordbOpenVoice_results', tensors=['embedding', 'id', 'metadata', 'text'])\n",
      "\n",
      "  tensor      htype       shape       dtype  compression\n",
      "  -------    -------     -------     -------  ------- \n",
      " embedding  embedding  (57202, 384)  float32   None   \n",
      "    id        text      (57202, 1)     str     None   \n",
      " metadata     json      (57202, 1)     str     None   \n",
      "   text       text      (57202, 1)     str     None   \n"
     ]
    }
   ],
   "source": [
    "vector_db.summary()"
   ]
  },
  {
   "cell_type": "code",
   "execution_count": 10,
   "metadata": {},
   "outputs": [
    {
     "name": "stdout",
     "output_type": "stream",
     "text": [
      "Database already exists!\n"
     ]
    }
   ],
   "source": [
    "if (vector_db.__len__()==0 and flag==True):\n",
    "    embeddings=model.encode(sentences=lines_for_dbms)\n",
    "    print(len(embeddings))\n",
    "    vector_db.add(text=lines_for_dbms, embedding=embeddings, metadata=metadata)\n",
    "elif flag==False and vector_db.__len__()==0:\n",
    "    print(f\"Database should already exist, delete input_lines_dbms_{project_name}.txt and rerun the code\")\n",
    "    \n",
    "else: \n",
    "    print(\"Database already exists!\")\n"
   ]
  },
  {
   "cell_type": "code",
   "execution_count": 11,
   "metadata": {},
   "outputs": [],
   "source": [
    "def query(query, number_of_suggestions=10, version_number=None, file_name=None, error_code=None):\n",
    "    filter={}\n",
    "    if version_number:\n",
    "        filter['version']=version_number\n",
    "    if file_name:\n",
    "        filter['file_name']=file_name\n",
    "    if error_code:\n",
    "        filter['code']=error_code\n",
    "        \n",
    "    if filter=={}:\n",
    "        search_result=vector_db.search(embedding_data=query,exec_option=\"python\",embedding_function=embed, k=number_of_suggestions)\n",
    "        return search_result\n",
    "    \n",
    "    search_result=vector_db.search(embedding_data=query,exec_option=\"python\",embedding_function=embed, k=number_of_suggestions, filter={\"metadata\":filter})\n",
    "    \n",
    "    return search_result"
   ]
  },
  {
   "cell_type": "code",
   "execution_count": 12,
   "metadata": {},
   "outputs": [],
   "source": [
    "def print_results(dict):\n",
    "    for i in dict[\"text\"]: \n",
    "        print(i)\n",
    "        \n"
   ]
  },
  {
   "cell_type": "code",
   "execution_count": 13,
   "metadata": {},
   "outputs": [
    {
     "name": "stdout",
     "output_type": "stream",
     "text": [
      "v27: OpenVoice_results/v27/text/symbols.py:78:0: C0103: Constant name \"num_ja_tones\" doesn't conform to UPPER_CASE naming style (invalid-name)\n",
      "\n",
      "v39: OpenVoice_results/v39/text/symbols.py:78:0: C0103: Constant name \"num_ja_tones\" doesn't conform to UPPER_CASE naming style (invalid-name)\n",
      "\n",
      "v42: OpenVoice_results/v42/text/symbols.py:78:0: C0103: Constant name \"num_ja_tones\" doesn't conform to UPPER_CASE naming style (invalid-name)\n",
      "\n",
      "v20: OpenVoice_results/v20/text/symbols.py:78:0: C0103: Constant name \"num_ja_tones\" doesn't conform to UPPER_CASE naming style (invalid-name)\n",
      "\n",
      "v83: OpenVoice_results/v83/openvoice/text/symbols.py:78:0: C0103: Constant name \"num_ja_tones\" doesn't conform to UPPER_CASE naming style (invalid-name)\n",
      "\n",
      "v41: OpenVoice_results/v41/text/symbols.py:78:0: C0103: Constant name \"num_ja_tones\" doesn't conform to UPPER_CASE naming style (invalid-name)\n",
      "\n",
      "v58: OpenVoice_results/v58/text/symbols.py:78:0: C0103: Constant name \"num_ja_tones\" doesn't conform to UPPER_CASE naming style (invalid-name)\n",
      "\n",
      "v66: OpenVoice_results/v66/text/symbols.py:78:0: C0103: Constant name \"num_ja_tones\" doesn't conform to UPPER_CASE naming style (invalid-name)\n",
      "\n",
      "v51: OpenVoice_results/v51/text/symbols.py:78:0: C0103: Constant name \"num_ja_tones\" doesn't conform to UPPER_CASE naming style (invalid-name)\n",
      "\n",
      "v69: OpenVoice_results/v69/text/symbols.py:78:0: C0103: Constant name \"num_ja_tones\" doesn't conform to UPPER_CASE naming style (invalid-name)\n",
      "\n"
     ]
    }
   ],
   "source": [
    "q1=query(\"names\", 10)\n",
    "print_results(q1)\n"
   ]
  },
  {
   "cell_type": "code",
   "execution_count": 14,
   "metadata": {},
   "outputs": [
    {
     "data": {
      "text/plain": [
       "{'score': [0.2407953143119812,\n",
       "  0.2407953143119812,\n",
       "  0.2407953143119812,\n",
       "  0.2407953143119812,\n",
       "  0.2407953143119812,\n",
       "  0.2407953143119812,\n",
       "  0.2407953143119812,\n",
       "  0.2407953143119812,\n",
       "  0.2407953143119812,\n",
       "  0.2407953143119812],\n",
       " 'id': ['bc0813e6-0627-11ef-80c3-ca200fd864c9',\n",
       "  'bc09ffa8-0627-11ef-80c3-ca200fd864c9',\n",
       "  'bc0a7a6e-0627-11ef-80c3-ca200fd864c9',\n",
       "  'bc06eef8-0627-11ef-80c3-ca200fd864c9',\n",
       "  'bc1197f4-0627-11ef-80c3-ca200fd864c9',\n",
       "  'bc0a50fc-0627-11ef-80c3-ca200fd864c9',\n",
       "  'bc0d471c-0627-11ef-80c3-ca200fd864c9',\n",
       "  'bc0ea7f6-0627-11ef-80c3-ca200fd864c9',\n",
       "  'bc0c10b8-0627-11ef-80c3-ca200fd864c9',\n",
       "  'bc0f2e6a-0627-11ef-80c3-ca200fd864c9'],\n",
       " 'metadata': [{'code': 'C0103',\n",
       "   'file_name': 'OpenVoice_results/v27/text/symbols.py',\n",
       "   'version': 'v27'},\n",
       "  {'code': 'C0103',\n",
       "   'file_name': 'OpenVoice_results/v39/text/symbols.py',\n",
       "   'version': 'v39'},\n",
       "  {'code': 'C0103',\n",
       "   'file_name': 'OpenVoice_results/v42/text/symbols.py',\n",
       "   'version': 'v42'},\n",
       "  {'code': 'C0103',\n",
       "   'file_name': 'OpenVoice_results/v20/text/symbols.py',\n",
       "   'version': 'v20'},\n",
       "  {'code': 'C0103',\n",
       "   'file_name': 'OpenVoice_results/v83/openvoice/text/symbols.py',\n",
       "   'version': 'v83'},\n",
       "  {'code': 'C0103',\n",
       "   'file_name': 'OpenVoice_results/v41/text/symbols.py',\n",
       "   'version': 'v41'},\n",
       "  {'code': 'C0103',\n",
       "   'file_name': 'OpenVoice_results/v58/text/symbols.py',\n",
       "   'version': 'v58'},\n",
       "  {'code': 'C0103',\n",
       "   'file_name': 'OpenVoice_results/v66/text/symbols.py',\n",
       "   'version': 'v66'},\n",
       "  {'code': 'C0103',\n",
       "   'file_name': 'OpenVoice_results/v51/text/symbols.py',\n",
       "   'version': 'v51'},\n",
       "  {'code': 'C0103',\n",
       "   'file_name': 'OpenVoice_results/v69/text/symbols.py',\n",
       "   'version': 'v69'}],\n",
       " 'text': ['v27: OpenVoice_results/v27/text/symbols.py:78:0: C0103: Constant name \"num_ja_tones\" doesn\\'t conform to UPPER_CASE naming style (invalid-name)\\n',\n",
       "  'v39: OpenVoice_results/v39/text/symbols.py:78:0: C0103: Constant name \"num_ja_tones\" doesn\\'t conform to UPPER_CASE naming style (invalid-name)\\n',\n",
       "  'v42: OpenVoice_results/v42/text/symbols.py:78:0: C0103: Constant name \"num_ja_tones\" doesn\\'t conform to UPPER_CASE naming style (invalid-name)\\n',\n",
       "  'v20: OpenVoice_results/v20/text/symbols.py:78:0: C0103: Constant name \"num_ja_tones\" doesn\\'t conform to UPPER_CASE naming style (invalid-name)\\n',\n",
       "  'v83: OpenVoice_results/v83/openvoice/text/symbols.py:78:0: C0103: Constant name \"num_ja_tones\" doesn\\'t conform to UPPER_CASE naming style (invalid-name)\\n',\n",
       "  'v41: OpenVoice_results/v41/text/symbols.py:78:0: C0103: Constant name \"num_ja_tones\" doesn\\'t conform to UPPER_CASE naming style (invalid-name)\\n',\n",
       "  'v58: OpenVoice_results/v58/text/symbols.py:78:0: C0103: Constant name \"num_ja_tones\" doesn\\'t conform to UPPER_CASE naming style (invalid-name)\\n',\n",
       "  'v66: OpenVoice_results/v66/text/symbols.py:78:0: C0103: Constant name \"num_ja_tones\" doesn\\'t conform to UPPER_CASE naming style (invalid-name)\\n',\n",
       "  'v51: OpenVoice_results/v51/text/symbols.py:78:0: C0103: Constant name \"num_ja_tones\" doesn\\'t conform to UPPER_CASE naming style (invalid-name)\\n',\n",
       "  'v69: OpenVoice_results/v69/text/symbols.py:78:0: C0103: Constant name \"num_ja_tones\" doesn\\'t conform to UPPER_CASE naming style (invalid-name)\\n']}"
      ]
     },
     "execution_count": 14,
     "metadata": {},
     "output_type": "execute_result"
    }
   ],
   "source": [
    "q1"
   ]
  },
  {
   "cell_type": "code",
   "execution_count": 20,
   "metadata": {},
   "outputs": [
    {
     "name": "stderr",
     "output_type": "stream",
     "text": [
      "100%|██████████| 57202/57202 [00:11<00:00, 4809.28it/s]\n"
     ]
    },
    {
     "name": "stdout",
     "output_type": "stream",
     "text": [
      "v29: OpenVoice_results/v29/models.py:7:0: E0401: Unable to import 'modules' (import-error)\n",
      "\n",
      "v29: OpenVoice_results/v29/text/english.py:20:0: C0413: Import \"import inflect\" should be placed at the top of the module (wrong-import-position)\n",
      "\n",
      "v29: OpenVoice_results/v29/text/english.py:19:0: C0413: Import \"import re\" should be placed at the top of the module (wrong-import-position)\n",
      "\n",
      "v29: OpenVoice_results/v29/text/english.py:21:0: C0413: Import \"from unidecode import unidecode\" should be placed at the top of the module (wrong-import-position)\n",
      "\n",
      "v29: OpenVoice_results/v29/text/english.py:22:0: C0413: Import \"import eng_to_ipa as ipa\" should be placed at the top of the module (wrong-import-position)\n",
      "\n",
      "v29: OpenVoice_results/v29/text/__init__.py:46:0: C0413: Import \"from text.symbols import language_tone_start_map\" should be placed at the top of the module (wrong-import-position)\n",
      "\n",
      "v29: OpenVoice_results/v29/api.py:3:0: C0411: standard import \"re\" should be placed before third party imports \"torch\", \"numpy\" (wrong-import-order)\n",
      "\n",
      "v29: OpenVoice_results/v29/api.py:7:0: C0411: standard import \"os\" should be placed before third party imports \"torch\", \"numpy\", \"soundfile\", \"utils\", \"commons\" (wrong-import-order)\n",
      "\n",
      "v29: OpenVoice_results/v29/mel_processing.py:103:4: C0415: Import outside toplevel (torch.nn.functional) (import-outside-toplevel)\n",
      "\n",
      "v29: OpenVoice_results/v29/text/__init__.py:2:0: E0401: Unable to import 'text' (import-error)\n",
      "\n",
      "v29: OpenVoice_results/v29/api.py:9:0: E0401: Unable to import 'text' (import-error)\n",
      "\n",
      "v29: OpenVoice_results/v29/text/english.py:20:0: E0401: Unable to import 'inflect' (import-error)\n",
      "\n",
      "v29: OpenVoice_results/v29/transforms.py:1:0: C0114: Missing module docstring (missing-module-docstring)\n",
      "\n",
      "v29: OpenVoice_results/v29/models.py:1:0: C0114: Missing module docstring (missing-module-docstring)\n",
      "\n",
      "v29: OpenVoice_results/v29/text/mandarin.py:1:0: C0114: Missing module docstring (missing-module-docstring)\n",
      "\n",
      "v29: OpenVoice_results/v29/mel_processing.py:1:0: C0114: Missing module docstring (missing-module-docstring)\n",
      "\n",
      "v29: OpenVoice_results/v29/commons.py:1:0: C0114: Missing module docstring (missing-module-docstring)\n",
      "\n",
      "v29: OpenVoice_results/v29/utils.py:1:0: C0114: Missing module docstring (missing-module-docstring)\n",
      "\n",
      "v29: OpenVoice_results/v29/modules.py:1:0: C0114: Missing module docstring (missing-module-docstring)\n",
      "\n",
      "v29: OpenVoice_results/v29/api.py:1:0: C0114: Missing module docstring (missing-module-docstring)\n",
      "\n",
      "v29: OpenVoice_results/v29/se_extractor.py:1:0: C0114: Missing module docstring (missing-module-docstring)\n",
      "\n",
      "v29: OpenVoice_results/v29/text/cleaners.py:1:0: C0114: Missing module docstring (missing-module-docstring)\n",
      "\n",
      "v29: OpenVoice_results/v29/attentions.py:1:0: C0114: Missing module docstring (missing-module-docstring)\n",
      "\n",
      "v29: OpenVoice_results/v29/se_extractor.py:4:0: C0411: standard import \"glob.glob\" should be placed before third party import \"torch\" (wrong-import-order)\n",
      "\n",
      "v29: OpenVoice_results/v29/text/english.py:21:0: E0401: Unable to import 'unidecode' (import-error)\n",
      "\n",
      "v29: OpenVoice_results/v29/text/mandarin.py:2:0: W0611: Unused import sys (unused-import)\n",
      "\n",
      "v29: OpenVoice_results/v29/api.py:5:0: E0401: Unable to import 'utils' (import-error)\n",
      "\n",
      "v29: OpenVoice_results/v29/text/__init__.py:46:0: E0401: Unable to import 'text.symbols' (import-error)\n",
      "\n",
      "v29: OpenVoice_results/v29/text/__init__.py:3:0: E0401: Unable to import 'text.symbols' (import-error)\n",
      "\n",
      "v29: OpenVoice_results/v29/attentions.py:7:0: C0411: standard import \"logging\" should be placed before third party imports \"torch\", \"torch.nn\", \"torch.nn.functional\", \"commons\" (wrong-import-order)\n",
      "\n"
     ]
    }
   ],
   "source": [
    "q2=query(\"module import\", version_number=\"v29\", number_of_suggestions=30)\n",
    "print_results(q2)\n",
    "\n"
   ]
  },
  {
   "cell_type": "code",
   "execution_count": 21,
   "metadata": {},
   "outputs": [
    {
     "name": "stdout",
     "output_type": "stream",
     "text": [
      "v36: OpenVoice_results/v36/api.py:95:8: R1705: Unnecessary \"else\" after \"return\", remove the \"else\" and de-indent the code inside it (no-else-return)\n",
      "\n",
      "v29: OpenVoice_results/v29/api.py:95:8: R1705: Unnecessary \"else\" after \"return\", remove the \"else\" and de-indent the code inside it (no-else-return)\n",
      "\n",
      "v94: OpenVoice_results/v94/openvoice/modules.py:513:8: R1705: Unnecessary \"else\" after \"return\", remove the \"else\" and de-indent the code inside it (no-else-return)\n",
      "\n",
      "v74: OpenVoice_results/v74/modules.py:365:8: R1705: Unnecessary \"else\" after \"return\", remove the \"else\" and de-indent the code inside it (no-else-return)\n",
      "\n",
      "v33: OpenVoice_results/v33/modules.py:448:8: R1705: Unnecessary \"else\" after \"return\", remove the \"else\" and de-indent the code inside it (no-else-return)\n",
      "\n",
      "v74: OpenVoice_results/v74/modules.py:377:8: R1705: Unnecessary \"else\" after \"return\", remove the \"else\" and de-indent the code inside it (no-else-return)\n",
      "\n",
      "v94: OpenVoice_results/v94/openvoice/modules.py:573:8: R1705: Unnecessary \"else\" after \"return\", remove the \"else\" and de-indent the code inside it (no-else-return)\n",
      "\n",
      "v74: OpenVoice_results/v74/modules.py:392:8: R1705: Unnecessary \"else\" after \"return\", remove the \"else\" and de-indent the code inside it (no-else-return)\n",
      "\n",
      "v50: OpenVoice_results/v50/modules.py:513:8: R1705: Unnecessary \"else\" after \"return\", remove the \"else\" and de-indent the code inside it (no-else-return)\n",
      "\n",
      "v94: OpenVoice_results/v94/openvoice/modules.py:595:8: R1705: Unnecessary \"else\" after \"return\", remove the \"else\" and de-indent the code inside it (no-else-return)\n",
      "\n"
     ]
    }
   ],
   "source": [
    "q3=query(\"are too many if else causing issues\")\n",
    "print_results(q3)"
   ]
  },
  {
   "cell_type": "code",
   "execution_count": 22,
   "metadata": {},
   "outputs": [
    {
     "name": "stdout",
     "output_type": "stream",
     "text": [
      "v75: OpenVoice_results/v75/openvoice_app.py:108:0: C0301: Line too long (141/100) (line-too-long)\n",
      "\n",
      "v53: OpenVoice_results/v53/openvoice_app.py:108:0: C0301: Line too long (141/100) (line-too-long)\n",
      "\n",
      "v92: OpenVoice_results/v92/openvoice/openvoice_app.py:108:0: C0301: Line too long (141/100) (line-too-long)\n",
      "\n",
      "v56: OpenVoice_results/v56/openvoice_app.py:108:0: C0301: Line too long (141/100) (line-too-long)\n",
      "\n",
      "v77: OpenVoice_results/v77/openvoice_app.py:108:0: C0301: Line too long (141/100) (line-too-long)\n",
      "\n",
      "v55: OpenVoice_results/v55/openvoice_app.py:108:0: C0301: Line too long (141/100) (line-too-long)\n",
      "\n",
      "v84: OpenVoice_results/v84/openvoice/openvoice_app.py:108:0: C0301: Line too long (141/100) (line-too-long)\n",
      "\n",
      "v85: OpenVoice_results/v85/openvoice/openvoice_app.py:108:0: C0301: Line too long (141/100) (line-too-long)\n",
      "\n",
      "v81: OpenVoice_results/v81/openvoice/openvoice_app.py:108:0: C0301: Line too long (141/100) (line-too-long)\n",
      "\n",
      "v66: OpenVoice_results/v66/openvoice_app.py:108:0: C0301: Line too long (141/100) (line-too-long)\n",
      "\n"
     ]
    }
   ],
   "source": [
    "q4=query(\"length related problems\")\n",
    "print_results(q4)"
   ]
  },
  {
   "cell_type": "code",
   "execution_count": 25,
   "metadata": {},
   "outputs": [
    {
     "name": "stderr",
     "output_type": "stream",
     "text": [
      "100%|██████████| 57202/57202 [00:11<00:00, 4999.09it/s]"
     ]
    },
    {
     "name": "stdout",
     "output_type": "stream",
     "text": [
      "v66: OpenVoice_results/v66/openvoice_app.py:7:0: E0401: Unable to import 'se_extractor' (import-error)\n",
      "\n",
      "v66: OpenVoice_results/v66/openvoice_app.py:6:0: E0401: Unable to import 'langid' (import-error)\n",
      "\n",
      "v66: OpenVoice_results/v66/openvoice_app.py:5:0: C0411: standard import \"zipfile.ZipFile\" should be placed before third party imports \"torch\", \"gradio\" (wrong-import-order)\n",
      "\n",
      "v66: OpenVoice_results/v66/openvoice_app.py:8:0: E0401: Unable to import 'api' (import-error)\n",
      "\n",
      "v66: OpenVoice_results/v66/openvoice_app.py:3:0: C0411: standard import \"argparse\" should be placed before third party import \"torch\" (wrong-import-order)\n",
      "\n",
      "v66: OpenVoice_results/v66/openvoice_app.py:5:0: W0611: Unused ZipFile imported from zipfile (unused-import)\n",
      "\n",
      "v66: OpenVoice_results/v66/openvoice_app.py:4:0: E0401: Unable to import 'gradio' (import-error)\n",
      "\n",
      "v66: OpenVoice_results/v66/openvoice_app.py:1:0: C0114: Missing module docstring (missing-module-docstring)\n",
      "\n",
      "v66: OpenVoice_results/v66/openvoice_app.py:37:0: R0914: Too many local variables (16/15) (too-many-locals)\n",
      "\n",
      "v66: OpenVoice_results/v66/openvoice_app.py:87:0: C0301: Line too long (206/100) (line-too-long)\n",
      "\n"
     ]
    },
    {
     "name": "stderr",
     "output_type": "stream",
     "text": [
      "\n"
     ]
    }
   ],
   "source": [
    "q4=query(\"import related problems\", file_name=\"OpenVoice_results/v66/openvoice_app.py\", version_number=\"v66\")\n",
    "print_results(q4)"
   ]
  },
  {
   "cell_type": "code",
   "execution_count": null,
   "metadata": {},
   "outputs": [],
   "source": [
    "q4"
   ]
  }
 ],
 "metadata": {
  "kernelspec": {
   "display_name": "Python 3",
   "language": "python",
   "name": "python3"
  },
  "language_info": {
   "codemirror_mode": {
    "name": "ipython",
    "version": 3
   },
   "file_extension": ".py",
   "mimetype": "text/x-python",
   "name": "python",
   "nbconvert_exporter": "python",
   "pygments_lexer": "ipython3",
   "version": "3.10.10"
  }
 },
 "nbformat": 4,
 "nbformat_minor": 2
}
